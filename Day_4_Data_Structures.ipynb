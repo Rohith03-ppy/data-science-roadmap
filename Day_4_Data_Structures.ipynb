{
  "nbformat": 4,
  "nbformat_minor": 0,
  "metadata": {
    "colab": {
      "provenance": [],
      "authorship_tag": "ABX9TyN2aGeg/KZePkLV+hNUWxK+",
      "include_colab_link": true
    },
    "kernelspec": {
      "name": "python3",
      "display_name": "Python 3"
    },
    "language_info": {
      "name": "python"
    }
  },
  "cells": [
    {
      "cell_type": "markdown",
      "metadata": {
        "id": "view-in-github",
        "colab_type": "text"
      },
      "source": [
        "<a href=\"https://colab.research.google.com/github/Rohith03-ppy/data-science-roadmap/blob/main/Day_4_Data_Structures.ipynb\" target=\"_parent\"><img src=\"https://colab.research.google.com/assets/colab-badge.svg\" alt=\"Open In Colab\"/></a>"
      ]
    },
    {
      "cell_type": "code",
      "execution_count": 12,
      "metadata": {
        "colab": {
          "base_uri": "https://localhost:8080/"
        },
        "id": "427qWLJzue_y",
        "outputId": "79862c41-cf44-4b12-be99-441b9f714097"
      },
      "outputs": [
        {
          "output_type": "stream",
          "name": "stdout",
          "text": [
            "['apple', 'mango', 'raspberry', 'watermelon', 'dragonfruit', 'guava']\n",
            "apple\n",
            "guava\n",
            "['mango', 'raspberry']\n",
            "['raspberry', 'watermelon', 'dragonfruit']\n"
          ]
        }
      ],
      "source": [
        "#Lists\n",
        "\n",
        "fruits = [\"apple\", \"banana\", \"mango\", \"raspberry\", \"watermelon\", \"dragonfruit\"]\n",
        "fruits.append(\"guava\")\n",
        "fruits.remove(\"banana\")\n",
        "print(fruits)\n",
        "print(fruits[0])\n",
        "print(fruits[-1])\n",
        "print(fruits[1:3])\n",
        "print(fruits[-4:-1])"
      ]
    },
    {
      "cell_type": "code",
      "source": [
        "#Tuples\n",
        "\n",
        "dimensions = (20, 40)\n",
        "print(dimensions[0])\n",
        "x, y = dimensions\n",
        "print(x, y)"
      ],
      "metadata": {
        "colab": {
          "base_uri": "https://localhost:8080/"
        },
        "id": "HW7jBuWRwCWm",
        "outputId": "abfddc8c-3aeb-4dfd-fdce-b1996d41af82"
      },
      "execution_count": 16,
      "outputs": [
        {
          "output_type": "stream",
          "name": "stdout",
          "text": [
            "20\n",
            "20 40\n"
          ]
        }
      ]
    },
    {
      "cell_type": "code",
      "source": [
        "#sets\n",
        "\n",
        "unique_numbers = {2, 3, 5, 7, 11, 13, 3}\n",
        "print(unique_numbers)\n",
        "\n",
        "\n",
        "set1 = {2, 3, 5, 7}\n",
        "set2 = {7, 11, 13, 3}\n",
        "\n",
        "print(set1.union(set2))\n",
        "print(set1.intersection(set2))\n",
        "print(set1.difference(set2))\n",
        "\n",
        "print(set1 | set2)\n",
        "print(set1 & set2)"
      ],
      "metadata": {
        "colab": {
          "base_uri": "https://localhost:8080/"
        },
        "id": "cr6YXcJBwuBt",
        "outputId": "b0432fb8-4d84-476f-a70b-675cb5ed6c1c"
      },
      "execution_count": 28,
      "outputs": [
        {
          "output_type": "stream",
          "name": "stdout",
          "text": [
            "{2, 3, 5, 7, 11, 13}\n",
            "{2, 3, 5, 7, 11, 13}\n",
            "{3, 7}\n",
            "{2, 5}\n",
            "{2, 3, 5, 7, 11, 13}\n",
            "{3, 7}\n"
          ]
        }
      ]
    },
    {
      "cell_type": "code",
      "source": [
        "#Dictionaires\n",
        "\n",
        "student = {\n",
        "    \"name\":  \"Rohith\",\n",
        "    \"age\":  23,\n",
        "    \"courses\": [\"Maths\", \"CS\"]\n",
        "\n",
        "}\n",
        "\n",
        "\n",
        "print(student[\"name\"])\n",
        "student[\"age\"] = 21\n",
        "student[\"grade\"] = \"A\"\n",
        "\n",
        "print(student)\n",
        "\n",
        "\n",
        "for key, value in student.items():\n",
        "  print(key, \";\", value)"
      ],
      "metadata": {
        "colab": {
          "base_uri": "https://localhost:8080/"
        },
        "id": "j6654UtcyZqg",
        "outputId": "23759795-1360-49d0-f670-eb45eb2bfc4a"
      },
      "execution_count": 33,
      "outputs": [
        {
          "output_type": "stream",
          "name": "stdout",
          "text": [
            "Rohith\n",
            "{'name': 'Rohith', 'age': 21, 'courses': ['Maths', 'CS'], 'grade': 'A'}\n",
            "name ; Rohith\n",
            "age ; 21\n",
            "courses ; ['Maths', 'CS']\n",
            "grade ; A\n"
          ]
        }
      ]
    },
    {
      "cell_type": "code",
      "source": [
        "#Mini Project: Student score tracker\n",
        "\n",
        "student_scores = {}\n",
        "\n",
        "while True:\n",
        "  name = input(\"Enter your name(or type stop to stop): \")\n",
        "  if name == \"stop\":\n",
        "    break\n",
        "  score = int(input(f\"Enter score for {name}\"))\n",
        "  student_scores[name] = score\n",
        "\n",
        "print(\"\\nAll student's scores:\")\n",
        "for name, score in student_scores.items():\n",
        "  print(f\"{name}: {score}\")"
      ],
      "metadata": {
        "colab": {
          "base_uri": "https://localhost:8080/"
        },
        "id": "g4Uh4YsyzsMK",
        "outputId": "29c9d964-402b-4d50-cb85-2af2749317f2"
      },
      "execution_count": 35,
      "outputs": [
        {
          "output_type": "stream",
          "name": "stdout",
          "text": [
            "Enter your name(or type stop to stop): John\n",
            "Enter score for John67\n",
            "Enter your name(or type stop to stop): Alice\n",
            "Enter score for Alice89\n",
            "Enter your name(or type stop to stop): stop\n",
            "\n",
            "All student's scores:\n",
            "John: 67\n",
            "Alice: 89\n"
          ]
        }
      ]
    },
    {
      "cell_type": "code",
      "source": [],
      "metadata": {
        "id": "GlsiJnHEz-Pw"
      },
      "execution_count": null,
      "outputs": []
    }
  ]
}