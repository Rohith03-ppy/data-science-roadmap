{
  "nbformat": 4,
  "nbformat_minor": 0,
  "metadata": {
    "colab": {
      "provenance": [],
      "authorship_tag": "ABX9TyOAJKCubajTsWW514J/GUd8",
      "include_colab_link": true
    },
    "kernelspec": {
      "name": "python3",
      "display_name": "Python 3"
    },
    "language_info": {
      "name": "python"
    }
  },
  "cells": [
    {
      "cell_type": "markdown",
      "metadata": {
        "id": "view-in-github",
        "colab_type": "text"
      },
      "source": [
        "<a href=\"https://colab.research.google.com/github/Rohith03-ppy/data-science-roadmap/blob/main/Day_3_Python_Functions.ipynb\" target=\"_parent\"><img src=\"https://colab.research.google.com/assets/colab-badge.svg\" alt=\"Open In Colab\"/></a>"
      ]
    },
    {
      "cell_type": "code",
      "execution_count": 3,
      "metadata": {
        "colab": {
          "base_uri": "https://localhost:8080/"
        },
        "id": "EZ-WPkIrugqX",
        "outputId": "82f0aba4-53b5-478c-9b9d-5c6b0cb86095"
      },
      "outputs": [
        {
          "output_type": "stream",
          "name": "stdout",
          "text": [
            "Marry, How are you doing?\n"
          ]
        }
      ],
      "source": [
        "#Functions\n",
        "def greet(name):\n",
        "  print(f\"{name}, How are you doing?\")\n",
        "\n",
        "greet(\"Marry\")"
      ]
    },
    {
      "cell_type": "code",
      "source": [
        "#Function with return value\n",
        "def sum(a, b):\n",
        "  return a+b\n",
        "\n",
        "sum(6, 5)"
      ],
      "metadata": {
        "colab": {
          "base_uri": "https://localhost:8080/"
        },
        "id": "a8p0mg-cSqlQ",
        "outputId": "c82d35f5-d9e6-4052-8ac6-57b3a5003dbf"
      },
      "execution_count": 1,
      "outputs": [
        {
          "output_type": "execute_result",
          "data": {
            "text/plain": [
              "11"
            ]
          },
          "metadata": {},
          "execution_count": 1
        }
      ]
    },
    {
      "cell_type": "code",
      "source": [
        " #default parameters\n",
        "\n",
        "def purpose(reason = \"visit\"):\n",
        "  print(f\"My purpose is {reason}\")\n",
        "\n",
        "purpose(\"Online delivery\")\n",
        "purpose()\n"
      ],
      "metadata": {
        "colab": {
          "base_uri": "https://localhost:8080/"
        },
        "id": "a_EzkkBKTFQj",
        "outputId": "c6f1b61e-851a-4be1-df5f-ee6d51b963e1"
      },
      "execution_count": 5,
      "outputs": [
        {
          "output_type": "stream",
          "name": "stdout",
          "text": [
            "My purpose is Online delivery\n",
            "My purpose is visit\n"
          ]
        }
      ]
    },
    {
      "cell_type": "code",
      "source": [
        "#keyword arguments\n",
        "\n",
        "def details(name, age):\n",
        "  print(f\"My name is {name}. I'm {age} years old. \")\n",
        "\n",
        "details(age = 56, name = \"Bob\")"
      ],
      "metadata": {
        "colab": {
          "base_uri": "https://localhost:8080/"
        },
        "id": "Tv4uR7BOUUXe",
        "outputId": "b9b20cb6-9a3c-44bc-efc1-ea8cc018ada5"
      },
      "execution_count": 6,
      "outputs": [
        {
          "output_type": "stream",
          "name": "stdout",
          "text": [
            "My name is Bob. I'm 56 years old. \n"
          ]
        }
      ]
    },
    {
      "cell_type": "code",
      "source": [
        "#Mini Project Basic Calculator\n",
        "\n",
        "def calculator(a, b, operation):\n",
        "  if operation == \"add\":\n",
        "    return a+b\n",
        "  elif operation == \"sub\":\n",
        "    return a-b\n",
        "  elif operation == \"multiply\":\n",
        "    return a*b\n",
        "  elif operation == \"divide\":\n",
        "    try:\n",
        "     return a/b\n",
        "    except ZeroDivisionError:\n",
        "      print(\"Erro: cannot divide by zero.\")\n",
        "  else:\n",
        "    print(\"Invalid operation\")\n",
        "\n",
        "\n",
        "calculator(6, 11, \"add\")\n",
        "calculator(4, 0, \"divide\")\n",
        "\n"
      ],
      "metadata": {
        "colab": {
          "base_uri": "https://localhost:8080/"
        },
        "id": "l4PHBu9cWfNo",
        "outputId": "358bfc6a-d55e-415a-a6fc-8dcdd14e7e2c"
      },
      "execution_count": 13,
      "outputs": [
        {
          "output_type": "stream",
          "name": "stdout",
          "text": [
            "Erro: cannot divide by zero.\n"
          ]
        }
      ]
    }
  ]
}