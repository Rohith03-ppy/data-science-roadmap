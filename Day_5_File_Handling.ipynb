{
  "nbformat": 4,
  "nbformat_minor": 0,
  "metadata": {
    "colab": {
      "provenance": [],
      "authorship_tag": "ABX9TyM08PtgPOnq5iZ3jvxPrTvf",
      "include_colab_link": true
    },
    "kernelspec": {
      "name": "python3",
      "display_name": "Python 3"
    },
    "language_info": {
      "name": "python"
    }
  },
  "cells": [
    {
      "cell_type": "markdown",
      "metadata": {
        "id": "view-in-github",
        "colab_type": "text"
      },
      "source": [
        "<a href=\"https://colab.research.google.com/github/Rohith03-ppy/data-science-roadmap/blob/main/Day_5_File_Handling.ipynb\" target=\"_parent\"><img src=\"https://colab.research.google.com/assets/colab-badge.svg\" alt=\"Open In Colab\"/></a>"
      ]
    },
    {
      "cell_type": "code",
      "execution_count": 3,
      "metadata": {
        "id": "z7RfNeEt9zwN"
      },
      "outputs": [],
      "source": [
        "#Write to File\n",
        "\n",
        "with open(\"demofile.txt\", \"a\") as file:\n",
        "  file.write(\"This is appended content.\")"
      ]
    },
    {
      "cell_type": "code",
      "source": [
        "#Read from file\n",
        "\n",
        "with open(\"demofile.txt\", \"r\") as file:\n",
        "  content = file.read()\n",
        "  print(content)"
      ],
      "metadata": {
        "colab": {
          "base_uri": "https://localhost:8080/"
        },
        "id": "Ljmg3usD_nMt",
        "outputId": "2ee46d8e-a2a5-4e72-f47a-4c9fbaf5f7e1"
      },
      "execution_count": 6,
      "outputs": [
        {
          "output_type": "stream",
          "name": "stdout",
          "text": [
            "This is appended content.This is appended content.\n"
          ]
        }
      ]
    },
    {
      "cell_type": "code",
      "source": [
        "#Append to file\n",
        "\n",
        "with open(\"demotxt.txt\", \"a\") as file:\n",
        "  file.write(\"Adding a new line to file\")"
      ],
      "metadata": {
        "id": "QihPvFpp__hH"
      },
      "execution_count": 8,
      "outputs": []
    },
    {
      "cell_type": "markdown",
      "source": [],
      "metadata": {
        "id": "nCslSXsl-KFQ"
      }
    }
  ]
}