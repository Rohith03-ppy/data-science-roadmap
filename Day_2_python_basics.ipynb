{
  "nbformat": 4,
  "nbformat_minor": 0,
  "metadata": {
    "colab": {
      "provenance": [],
      "name": "Day-2-python-basics.ipynb",
      "authorship_tag": "ABX9TyM4ocxxWyERmFS+SGPzKtde",
      "include_colab_link": true
    },
    "kernelspec": {
      "name": "python3",
      "display_name": "Python 3"
    },
    "language_info": {
      "name": "python"
    }
  },
  "cells": [
    {
      "cell_type": "markdown",
      "metadata": {
        "id": "view-in-github",
        "colab_type": "text"
      },
      "source": [
        "<a href=\"https://colab.research.google.com/github/Rohith03-ppy/data-science-roadmap/blob/main/Day_2_python_basics.ipynb\" target=\"_parent\"><img src=\"https://colab.research.google.com/assets/colab-badge.svg\" alt=\"Open In Colab\"/></a>"
      ]
    },
    {
      "cell_type": "code",
      "execution_count": null,
      "metadata": {
        "colab": {
          "base_uri": "https://localhost:8080/"
        },
        "id": "VSA1Mg28f1wL",
        "outputId": "2f81d9fb-fd8f-4942-bb8f-6486177dd7d6"
      },
      "outputs": [
        {
          "output_type": "stream",
          "name": "stdout",
          "text": [
            "Negative number\n"
          ]
        }
      ],
      "source": [
        "#If-else statement\n",
        "num = -2\n",
        "if num > 0:\n",
        " print(\"Positive number\")\n",
        "elif num == 0:\n",
        "  print(\"Zero\")\n",
        "else:\n",
        "  print(\"Negative number\")"
      ]
    },
    {
      "cell_type": "code",
      "source": [
        "#Loops\n",
        "\n",
        "#For loop\n",
        "for i in range(1, 11):\n",
        "  print(i)"
      ],
      "metadata": {
        "colab": {
          "base_uri": "https://localhost:8080/"
        },
        "id": "5GBolEf1g-qx",
        "outputId": "a5f6eff1-34b7-4481-a037-d9d27e579f95"
      },
      "execution_count": null,
      "outputs": [
        {
          "output_type": "stream",
          "name": "stdout",
          "text": [
            "1\n",
            "2\n",
            "3\n",
            "4\n",
            "5\n",
            "6\n",
            "7\n",
            "8\n",
            "9\n",
            "10\n"
          ]
        }
      ]
    },
    {
      "cell_type": "code",
      "source": [
        "#While loop\n",
        "\n",
        "count = 1\n",
        "while count <= 5:\n",
        "  print(count)\n",
        "  count = count + 1"
      ],
      "metadata": {
        "colab": {
          "base_uri": "https://localhost:8080/"
        },
        "id": "kd1o3vVIhcFO",
        "outputId": "44311d3a-5f33-4b05-9acb-f10cf629c912"
      },
      "execution_count": null,
      "outputs": [
        {
          "output_type": "stream",
          "name": "stdout",
          "text": [
            "1\n",
            "2\n",
            "3\n",
            "4\n",
            "5\n"
          ]
        }
      ]
    },
    {
      "cell_type": "code",
      "source": [
        "#Loop through lists\n",
        "fruits = [\"apple\", \"banana\", \"guava\", \"grape\"]\n",
        "\n",
        "for fruit in fruits:\n",
        "  print(fruit)\n",
        "\n",
        "\n",
        "emails = [\"john@gmail.com\", \"danny@gmail.com\", \"kohli@gmail.com\", \"lebron@gmail.com\"]\n",
        "\n",
        "for email in emails:\n",
        "  print(email)"
      ],
      "metadata": {
        "colab": {
          "base_uri": "https://localhost:8080/"
        },
        "id": "erCUpFmLiPgK",
        "outputId": "b881d04a-5f55-46fc-bbaf-3921c8175130"
      },
      "execution_count": null,
      "outputs": [
        {
          "output_type": "stream",
          "name": "stdout",
          "text": [
            "apple\n",
            "banana\n",
            "guava\n",
            "grape\n",
            "john@gmail.com\n",
            "danny@gmail.com\n",
            "kohli@gmail.com\n",
            "lebron@gmail.com\n"
          ]
        }
      ]
    },
    {
      "cell_type": "code",
      "source": [
        "#Break and continue\n",
        "\n",
        "for i in range(1, 11):\n",
        "  if i == 5:\n",
        "    break\n",
        "  print(i)\n",
        "print(\"---------\")\n",
        "\n",
        "for i in range(1, 11):\n",
        "  if i == 5:\n",
        "    continue\n",
        "  print(i)"
      ],
      "metadata": {
        "colab": {
          "base_uri": "https://localhost:8080/"
        },
        "id": "0Lia98CZjrX2",
        "outputId": "ed80b5b7-31f2-45e2-a2a0-fd98cb1f233d"
      },
      "execution_count": null,
      "outputs": [
        {
          "output_type": "stream",
          "name": "stdout",
          "text": [
            "1\n",
            "2\n",
            "3\n",
            "4\n",
            "---------\n",
            "1\n",
            "2\n",
            "3\n",
            "4\n",
            "6\n",
            "7\n",
            "8\n",
            "9\n",
            "10\n"
          ]
        }
      ]
    },
    {
      "cell_type": "code",
      "source": [
        "#Mini Project: Guess the Number game\n",
        "\n",
        "import random\n",
        "\n",
        "random_number = random.randint(1, 20)\n",
        "\n",
        "while True:\n",
        "  guess_number = int(input(\"Enter a number between 1 and 20: \"))\n",
        "  if random_number == guess_number:\n",
        "    print(f\"You guessed the correct number{random_number}\")\n",
        "  elif guess_number > random_number:\n",
        "      print(\"go low\")\n",
        "  else:\n",
        "      print(\"go high\")\n",
        "\n",
        "\n"
      ],
      "metadata": {
        "colab": {
          "base_uri": "https://localhost:8080/"
        },
        "id": "4VTrMS6mkyXj",
        "outputId": "6a904119-2551-4576-8786-fcd44b989451"
      },
      "execution_count": null,
      "outputs": [
        {
          "output_type": "stream",
          "name": "stdout",
          "text": [
            "Enter a number between 1 and 20: 10\n",
            "go low\n",
            "Enter a number between 1 and 20: 5\n",
            "go low\n",
            "Enter a number between 1 and 20: 2\n",
            "You guessed the correct number2\n"
          ]
        }
      ]
    }
  ]
}