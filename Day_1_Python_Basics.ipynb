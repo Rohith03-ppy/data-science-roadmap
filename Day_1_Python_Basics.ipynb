{
  "nbformat": 4,
  "nbformat_minor": 0,
  "metadata": {
    "colab": {
      "provenance": [],
      "authorship_tag": "ABX9TyNjYCoQH+kdHgnkmy7hNJbu",
      "include_colab_link": true
    },
    "kernelspec": {
      "name": "python3",
      "display_name": "Python 3"
    },
    "language_info": {
      "name": "python"
    }
  },
  "cells": [
    {
      "cell_type": "markdown",
      "metadata": {
        "id": "view-in-github",
        "colab_type": "text"
      },
      "source": [
        "<a href=\"https://colab.research.google.com/github/Rohith03-ppy/data-science-roadmap/blob/main/Day_1_Python_Basics.ipynb\" target=\"_parent\"><img src=\"https://colab.research.google.com/assets/colab-badge.svg\" alt=\"Open In Colab\"/></a>"
      ]
    },
    {
      "cell_type": "code",
      "execution_count": null,
      "metadata": {
        "id": "5jx-6WauMGN8",
        "colab": {
          "base_uri": "https://localhost:8080/"
        },
        "outputId": "64191d6e-13ce-4fe9-e11b-f222b22e6544"
      },
      "outputs": [
        {
          "output_type": "stream",
          "name": "stdout",
          "text": [
            "Hello, Data Science World!\n"
          ]
        }
      ],
      "source": [
        "print(\"Hello, Data Science World!\")"
      ]
    },
    {
      "cell_type": "code",
      "source": [
        "name = \"Rohith\"\n",
        "age = 22\n",
        "sex = 'M'\n",
        "height = 5.9\n",
        "weight = 57.64\n",
        "is_student = True\n",
        "\n",
        "print(name)\n",
        "print(age)\n",
        "print(sex)\n",
        "print(height)\n",
        "print(weight)\n",
        "print(is_student)\n"
      ],
      "metadata": {
        "colab": {
          "base_uri": "https://localhost:8080/"
        },
        "id": "iZvk_SmBNgrL",
        "outputId": "f64cdf17-0834-47a3-9f3f-90c6a951e163"
      },
      "execution_count": null,
      "outputs": [
        {
          "output_type": "stream",
          "name": "stdout",
          "text": [
            "Rohith\n",
            "22\n",
            "M\n",
            "5.9\n",
            "57.64\n",
            "True\n"
          ]
        }
      ]
    },
    {
      "cell_type": "code",
      "source": [
        "a = 10\n",
        "b = 2\n",
        "\n",
        "print(\"The additon of two numbers: \", a + b)\n",
        "print(\"The sub of two numbers: \", a - b)\n",
        "print(\"The divison of two numbers: \", a/b)\n",
        "print(\"The Integer divison of two numbers: \", a//b)\n",
        "print(\"The exponentiation of two numbers: \", a ** b)\n",
        "print(\"The modulus of two numbers: \", a % b)"
      ],
      "metadata": {
        "colab": {
          "base_uri": "https://localhost:8080/"
        },
        "id": "j4bq32S1OM1s",
        "outputId": "0754bd5c-a824-49be-9b27-29cf47e2c879"
      },
      "execution_count": null,
      "outputs": [
        {
          "output_type": "stream",
          "name": "stdout",
          "text": [
            "The additon of two numbers:  12\n",
            "The sub of two numbers:  8\n",
            "The divison of two numbers:  5.0\n",
            "The Integer divison of two numbers:  5\n",
            "The exponentiation of two numbers:  100\n",
            "The modulus of two numbers:  0\n"
          ]
        }
      ]
    },
    {
      "cell_type": "code",
      "source": [
        "a = 7\n",
        "b = 9\n",
        "\n",
        "\n",
        "print(a < b)\n",
        "print(a > b)\n",
        "print(a == b)\n",
        "print( a != b)\n"
      ],
      "metadata": {
        "colab": {
          "base_uri": "https://localhost:8080/"
        },
        "id": "cTKLaK_APgBZ",
        "outputId": "17497934-426c-4fe8-b1e5-e0abb96f0c75"
      },
      "execution_count": null,
      "outputs": [
        {
          "output_type": "stream",
          "name": "stdout",
          "text": [
            "True\n",
            "False\n",
            "False\n",
            "True\n"
          ]
        }
      ]
    },
    {
      "cell_type": "code",
      "source": [
        "user_name = input(\"Enter your username: \")\n",
        "print(\"Hello!\", user_name)"
      ],
      "metadata": {
        "colab": {
          "base_uri": "https://localhost:8080/"
        },
        "id": "ZH7LxOm8P48F",
        "outputId": "4dde9b4b-b03f-4146-e8da-7fdda41e1d88"
      },
      "execution_count": null,
      "outputs": [
        {
          "output_type": "stream",
          "name": "stdout",
          "text": [
            "Enter your username: Rohith\n",
            "Hello! Rohith\n"
          ]
        }
      ]
    },
    {
      "cell_type": "code",
      "source": [
        "# Today's mini task\n",
        "length = float(input(\"Enter the rectangle length: \"))\n",
        "breadth = float(input(\"Enter the rectangle breadth: \"))\n",
        "\n",
        "area = length * breadth\n",
        "\n",
        "print(\"Area of the rectangle is\", area)"
      ],
      "metadata": {
        "colab": {
          "base_uri": "https://localhost:8080/"
        },
        "id": "eUg53VLaQTmN",
        "outputId": "d4ddb49f-cb58-4fb4-dafc-d3f09e0000c4"
      },
      "execution_count": null,
      "outputs": [
        {
          "output_type": "stream",
          "name": "stdout",
          "text": [
            "Enter the rectangle length: 6\n",
            "Enter the rectangle breadth: 4\n",
            "Area of the rectangle is 24.0\n"
          ]
        }
      ]
    }
  ]
}